{
  "nbformat": 4,
  "nbformat_minor": 0,
  "metadata": {
    "colab": {
      "provenance": [],
      "authorship_tag": "ABX9TyMYOfXcIBnkdO2ZxCD+y4us",
      "include_colab_link": true
    },
    "kernelspec": {
      "name": "python3",
      "display_name": "Python 3"
    },
    "language_info": {
      "name": "python"
    }
  },
  "cells": [
    {
      "cell_type": "markdown",
      "metadata": {
        "id": "view-in-github",
        "colab_type": "text"
      },
      "source": [
        "<a href=\"https://colab.research.google.com/github/Snehalnasare/ML_lab/blob/main/Pract4.ipynb\" target=\"_parent\"><img src=\"https://colab.research.google.com/assets/colab-badge.svg\" alt=\"Open In Colab\"/></a>"
      ]
    },
    {
      "cell_type": "code",
      "execution_count": null,
      "metadata": {
        "colab": {
          "base_uri": "https://localhost:8080/",
          "height": 407
        },
        "id": "zkip2pHIkJtd",
        "outputId": "aa949622-75f6-437b-b535-1f422cfb9ddb"
      },
      "outputs": [
        {
          "output_type": "stream",
          "name": "stdout",
          "text": [
            "(201.0032590048558, 340.39496549917396, 566.5327134679136, 81.6446714553312, 150.1440351752519, 909.2704102747233, 351.28292785762517, 595.2361572753194, 757.1527161971477, 423.65085729802524, 264.8144593981912, 512.2321599880388, 518.6418568821484, 529.811712345592, 335.50639380972603, 984.2487444246699, 930.5660483101417, 687.312577312757, 505.86235885337015, 104.78831743414862, 279.5106147597255, 405.43852303218387, 723.6780000117122, 402.2258850490138, 724.6275406510224, 612.269047809637, 582.5007874346143, 739.7316914575249, 326.3433362701244, 457.0664259210526, 291.8975164355467, 7.021610201486147, 420.4740699949757, 540.6538221613705, 182.4255001418618, 316.2961981081004, 674.2973961775618, 719.675382646293, 111.48386135617037, 40.331645137775865, 346.09648788673496, 742.9965877369647, 179.45011131605318, 210.79485753474407, 913.1625968142083, 885.2621341376541, 907.8863962821417, 846.7054561795953, 23.225963668874787, 692.623619801227)\n",
            "(10272.332179750454, 14794.967875492708, 23716.775953439188, 938.6997984284258, 3364.914404822165, 48686.62460079481, 15729.3182695957, 16485.228928843524, 39391.91574453269, 14012.430614048793, 5813.210997016484, 14874.481241295247, 27429.189120905798, 19405.634386422604, 9267.992059020566, 8734.378150041957, 39687.08802768456, 32134.10839192605, 1528.475461998496, 50.59852003006017, 15163.275030253895, 21248.456170776786, 39224.21697641485, 16264.423069495659, -470.80405461065675, 21703.545586992, 27641.972585302596, 13922.013794592342, 15167.073172403087, 3732.055675952649, 15773.458365387913, 141.09105544883417, 18957.40418301228, 20326.388016848952, -546.4755427418422, 16011.244564576245, 18995.834459642883, 34209.31515109295, -487.48614422512446, -9.165755603044886, 6605.791726043786, -1999.2521247930854, 8461.613589987406, 8221.091452031093, 1129.519445186117, 30997.778197265143, 11568.537548833014, 24814.83873024564, 991.5086696516972, 23966.935843778294)\n",
            " y = 33.41118597969855 * x + 621.0074968818371\n",
            "Mean squared error: 117195596.57\n",
            "Variance score: 0.04\n"
          ]
        },
        {
          "output_type": "display_data",
          "data": {
            "text/plain": [
              "<Figure size 432x288 with 1 Axes>"
            ],
            "image/png": "[encoded data removed]"
          },
          "metadata": {
            "needs_background": "light"
          }
        }
      ],
      "source": [
        "from sklearn import linear_model\n",
        "import matplotlib.pyplot as plt\n",
        "import numpy as np\n",
        "import random\n",
        "# let's create a linear function with some error called f\n",
        "def f(x):\n",
        "    res = x* 25 + 3\n",
        "    error = res * random.uniform(-1.2, 1.2) \n",
        "    # you can play with the error to see how it affects the result\n",
        "    return res + error\n",
        "\n",
        "values = []\n",
        "# now using f we are going to create 300 values.\n",
        "for i in range(0, 50):\n",
        "    x = random.uniform(1, 1000)\n",
        "    y = f(x)\n",
        "    values.append((x, y))\n",
        "    regr = linear_model.LinearRegression()\n",
        "# split the values into two series instead a list of tuples\n",
        "x, y = zip(*values)\n",
        "print(x)\n",
        "print(y)\n",
        "max_x = max(x)\n",
        "min_x = min(x)\n",
        "\n",
        "# split the values in training and test data.\n",
        "#x_val=np.array(x[:-20])\n",
        "#train_data_X=np.matrix(x_val.reshape(len(x_val),1))\n",
        "train_data_X = list(map(lambda x: [x], list(x[:-20])))\n",
        "train_data_Y = list(y[:-20])\n",
        "#x_val=np.array(x[-20:])\n",
        "#test_data_X=np.matrix(x_val.reshape(len(x_val),1))\n",
        "test_data_X = list(map(lambda x: [x], list(x[-20:])))\n",
        "test_data_Y = list(y[-20:])\n",
        "\n",
        "# feed the linear regression with the train data to obtain a model.\n",
        "regr.fit(train_data_X, train_data_Y)\n",
        "# check that the coeffients are the expected ones.\n",
        "m = regr.coef_[0]\n",
        "b = regr.intercept_\n",
        "print(' y = {0} * x + {1}'.format(m, b))\n",
        "\n",
        "# now we are going to plot the points and the model obtained\n",
        "plt.scatter(x, y, color='blue')  # you can use test_data_X and test_data_Y instead.\n",
        "plt.plot([min_x, max_x], [b, m*max_x + b], 'r')\n",
        "plt.title('Fitted linear regression', fontsize=16)\n",
        "plt.xlabel('x', fontsize=13)\n",
        "plt.ylabel('y', fontsize=13)\n",
        "\n",
        "\n",
        "# The mean squared error\n",
        "print(\"Mean squared error: %.2f\" % np.mean((regr.predict(test_data_X) - test_data_Y) ** 2))\n",
        "# Explained variance score: 1 is perfect prediction\n",
        "print('Variance score: %.2f' % regr.score(test_data_X, test_data_Y))"
      ]
    }
  ]
}