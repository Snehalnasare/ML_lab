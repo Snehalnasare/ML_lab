{
  "nbformat": 4,
  "nbformat_minor": 0,
  "metadata": {
    "colab": {
      "provenance": [],
      "authorship_tag": "ABX9TyPmY5pGNC0HWL9KxBAniXTd",
      "include_colab_link": true
    },
    "kernelspec": {
      "name": "python3",
      "display_name": "Python 3"
    },
    "language_info": {
      "name": "python"
    }
  },
  "cells": [
    {
      "cell_type": "markdown",
      "metadata": {
        "id": "view-in-github",
        "colab_type": "text"
      },
      "source": [
        "<a href=\"https://colab.research.google.com/github/Snehalnasare/ML_lab/blob/main/Pract4.ipynb\" target=\"_parent\"><img src=\"https://colab.research.google.com/assets/colab-badge.svg\" alt=\"Open In Colab\"/></a>"
      ]
    },
    {
      "cell_type": "code",
      "execution_count": null,
      "metadata": {
        "colab": {
          "base_uri": "https://localhost:8080/",
          "height": 407
        },
        "id": "zkip2pHIkJtd",
        "outputId": "0086caba-487f-4c4a-97b6-0405ad3df56b"
      },
      "outputs": [
        {
          "output_type": "stream",
          "name": "stdout",
          "text": [
            "(139.14895274131493, 580.0286837599753, 53.43133620984652, 824.9192126103593, 966.9083162954759, 503.7279610254887, 524.5623385178072, 823.7083606304367, 904.2152970746391, 757.6120014725514, 477.8721586957593, 338.83529345169234, 474.2923708967813, 302.2477472429945, 17.535699355411435, 236.75065345876706, 13.726238351200049, 1.163080638817692, 329.0475528618261, 458.20624238077096, 533.977413444871, 1.0434127779485989, 789.7969365787396, 84.42371541771358, 9.334034283823723, 564.7578175395033, 524.5247222688145, 371.0472267894263, 98.1967507720122, 882.8468950710917, 541.1197783480756, 762.5980956080725, 456.41875267425036, 173.5120476784911, 565.3553614090462, 527.0589693675909, 609.7771067415508, 671.6805494907252, 30.671342663445277, 662.6790481824471, 18.507107293450304, 663.3553397208252, 348.63248777982994, 403.21176274342474, 740.524017777768, 479.52510640433195, 283.94821045848045, 464.1194655765191, 91.52046998931878, 603.9728266907748)\n",
            "(203.23524693691616, 6297.261213779646, 1897.2702276375726, 8226.602352394544, 16472.70307879411, 11440.120762337445, 12676.7725759003, 7528.487594881446, 23647.06836959044, -1751.0343608856601, 7426.681403329879, -775.8007717858436, 10990.149250137352, 8598.84761018628, 433.45056912002275, 10650.813734800386, 30.51710531018574, 13.086550104505122, 1193.6726939562686, 22660.312805906065, 21569.11955952848, 46.83421113174303, 16548.206875400578, 1533.7942106029495, -23.825557255979987, 13233.650989694823, 11675.923032658337, 12864.737834691488, 3092.60000595202, 10208.766936218011, 21039.46966323412, 40898.57316687744, 7169.049151741078, 8457.505604905065, 30749.51925445806, 25626.024291132653, 16954.882688263948, 19663.76249171972, 662.8112443821824, 1407.474719193062, 52.297779685846706, 12147.511951484837, 6474.660392480195, -1986.9294183813945, 18281.387817617648, 5147.558463778923, 5191.508485332984, 15069.963822390071, 1451.4585571364, 1630.5788055503963)\n",
            " y = 15.150971321181178 * x + 1596.3763208590972\n",
            "Mean squared error: 103624009.25\n",
            "Variance score: 0.19\n"
          ]
        },
        {
          "output_type": "display_data",
          "data": {
            "text/plain": [
              "<Figure size 432x288 with 1 Axes>"
            ],
            "image/png": "[encoded data removed]"
          },
          "metadata": {
            "needs_background": "light"
          }
        }
      ],
      "source": [
        "from sklearn import linear_model\n",
        "import matplotlib.pyplot as plt\n",
        "import numpy as np\n",
        "import random\n",
        "# let's create a linear function with some error called f\n",
        "def f(x):\n",
        "    res = x* 25 + 3\n",
        "    error = res * random.uniform(-1.2, 1.2) \n",
        "    # you can play with the error to see how it affects the result\n",
        "    return res + error\n",
        "\n",
        "values = []\n",
        "# now using f we are going to create 300 values.\n",
        "for i in range(0, 50):\n",
        "    x = random.uniform(1, 1000)\n",
        "    y = f(x)\n",
        "    values.append((x, y))\n",
        "    regr = linear_model.LinearRegression()\n",
        "# split the values into two series instead a list of tuples\n",
        "x, y = zip(*values)\n",
        "print(x)\n",
        "print(y)\n",
        "max_x = max(x)\n",
        "min_x = min(x)\n",
        "\n",
        "# split the values in training and test data.\n",
        "#x_val=np.array(x[:-20])\n",
        "#train_data_X=np.matrix(x_val.reshape(len(x_val),1))\n",
        "train_data_X = list(map(lambda x: [x], list(x[:-20])))\n",
        "train_data_Y = list(y[:-20])\n",
        "\n",
        "#x_val=np.array(x[-20:])\n",
        "#test_data_X=np.matrix(x_val.reshape(len(x_val),1))\n",
        "test_data_X = list(map(lambda x: [x], list(x[-20:])))\n",
        "test_data_Y = list(y[-20:])\n",
        "# feed the linear regression with the train data to obtain a model.\n",
        "regr.fit(train_data_X, train_data_Y)\n",
        "# check that the coeffients are the expected ones.\n",
        "m = regr.coef_[0]\n",
        "b = regr.intercept_\n",
        "print(' y = {0} * x + {1}'.format(m, b))\n",
        "\n",
        "# now we are going to plot the points and the model obtained\n",
        "plt.scatter(x, y, color='blue')  # you can use test_data_X and test_data_Y instead.\n",
        "plt.plot([min_x, max_x], [b, m*max_x + b], 'r')\n",
        "plt.title('Fitted linear regression', fontsize=16)\n",
        "plt.xlabel('x', fontsize=13)\n",
        "plt.ylabel('y', fontsize=13)\n",
        "\n",
        "# The mean squared error\n",
        "print(\"Mean squared error: %.2f\" % np.mean((regr.predict(test_data_X) - test_data_Y) ** 2))\n",
        "# Explained variance score: 1 is perfect prediction\n",
        "print('Variance score: %.2f' % regr.score(test_data_X, test_data_Y))\n",
        "\n",
        "\n",
        "\n"
      ]
    }
  ]
}