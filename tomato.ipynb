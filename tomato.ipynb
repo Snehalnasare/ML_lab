{
  "cells": [
    {
      "cell_type": "markdown",
      "metadata": {
        "id": "view-in-github",
        "colab_type": "text"
      },
      "source": [
        "<a href=\"https://colab.research.google.com/github/Snehalnasare/ML_lab/blob/main/tomato.ipynb\" target=\"_parent\"><img src=\"https://colab.research.google.com/assets/colab-badge.svg\" alt=\"Open In Colab\"/></a>"
      ]
    },
    {
      "cell_type": "code",
      "execution_count": null,
      "id": "e103b729",
      "metadata": {
        "id": "e103b729"
      },
      "outputs": [],
      "source": [
        "import tensorflow as tf\n",
        "import numpy as np"
      ]
    },
    {
      "cell_type": "code",
      "execution_count": null,
      "id": "279168f2",
      "metadata": {
        "id": "279168f2"
      },
      "outputs": [],
      "source": [
        "base_dir=r\"D:\\Tomato\\train\""
      ]
    },
    {
      "cell_type": "code",
      "execution_count": null,
      "id": "c50ccaf5",
      "metadata": {
        "id": "c50ccaf5",
        "outputId": "c4b7754c-4c41-4f6e-fa8b-f7db3d26fc67"
      },
      "outputs": [
        {
          "name": "stdout",
          "output_type": "stream",
          "text": [
            "Found 37592 images belonging to 10 classes.\n",
            "Found 4171 images belonging to 10 classes.\n"
          ]
        }
      ],
      "source": [
        "IMAGE_SIZE=224\n",
        "BATCH_SIZE=64\n",
        "\n",
        "#pre=processing\n",
        "train_datagen=tf.keras.preprocessing.image.ImageDataGenerator(\n",
        "    rescale=1./255,\n",
        "    shear_range=0.2,\n",
        "    zoom_range=0.2,\n",
        "    horizontal_flip=True,\n",
        "    validation_split=0.1\n",
        "    )\n",
        "\n",
        "test_datagen=tf.keras.preprocessing.image.ImageDataGenerator(\n",
        "     rescale=1./255,\n",
        "     validation_split=0.1\n",
        ")\n",
        "\n",
        "train_datagen=train_datagen.flow_from_directory(\n",
        "    base_dir,\n",
        "    target_size=(IMAGE_SIZE,IMAGE_SIZE),\n",
        "    batch_size=BATCH_SIZE,\n",
        "    subset='training'\n",
        ")\n",
        "\n",
        "test_datagen=test_datagen.flow_from_directory(\n",
        "    base_dir,\n",
        "    target_size=(IMAGE_SIZE,IMAGE_SIZE),\n",
        "    batch_size=BATCH_SIZE,\n",
        "    subset='validation'\n",
        ")"
      ]
    },
    {
      "cell_type": "code",
      "execution_count": null,
      "id": "f2a99da8",
      "metadata": {
        "id": "f2a99da8"
      },
      "outputs": [],
      "source": [
        "cnn=tf.keras.Sequential()\n",
        "cnn.add(tf.keras.layers.Conv2D(filters=64,padding='same',strides=2,kernel_size=3,activation='relu',input_shape=(224,224,3)))\n",
        "cnn.add(tf.keras.layers.MaxPool2D(pool_size=2,strides=2))\n",
        "\n",
        "cnn.add(tf.keras.layers.Conv2D(filters=32,padding='same',strides=2,kernel_size=3,activation='relu'))\n",
        "cnn.add(tf.keras.layers.MaxPool2D(pool_size=2,strides=2))\n",
        "\n",
        "cnn.add(tf.keras.layers.Conv2D(filters=32,padding='same',strides=2,kernel_size=3,activation='relu'))\n",
        "cnn.add(tf.keras.layers.MaxPool2D(pool_size=2))\n",
        "\n",
        "cnn.add(tf.keras.layers.Conv2D(filters=32,padding='same',strides=2,kernel_size=3,activation='relu'))\n",
        "cnn.add(tf.keras.layers.MaxPool2D(pool_size=2))\n",
        "\n",
        "cnn.add(tf.keras.layers.Flatten())\n",
        "cnn.add(tf.keras.layers.Dense(10,activation='softmax'))"
      ]
    },
    {
      "cell_type": "code",
      "execution_count": null,
      "id": "11189498",
      "metadata": {
        "id": "11189498"
      },
      "outputs": [],
      "source": [
        "cnn.compile(optimizer=tf.keras.optimizers.Adam(),loss='categorical_crossentropy',metrics=['accuracy'])"
      ]
    },
    {
      "cell_type": "code",
      "execution_count": null,
      "id": "7f3e06df",
      "metadata": {
        "id": "7f3e06df",
        "outputId": "51a8b1e2-e1ff-40d2-c11b-d26d09b07fb4"
      },
      "outputs": [
        {
          "name": "stdout",
          "output_type": "stream",
          "text": [
            "Epoch 1/5\n",
            "588/588 [==============================] - 1301s 2s/step - loss: 0.8392 - accuracy: 0.7246 - val_loss: 0.6991 - val_accuracy: 0.7674\n",
            "Epoch 2/5\n",
            "588/588 [==============================] - 820s 1s/step - loss: 0.6193 - accuracy: 0.7980 - val_loss: 0.5897 - val_accuracy: 0.8022\n",
            "Epoch 3/5\n",
            "588/588 [==============================] - 566s 962ms/step - loss: 0.5130 - accuracy: 0.8338 - val_loss: 0.4874 - val_accuracy: 0.8343\n",
            "Epoch 4/5\n",
            "588/588 [==============================] - 664s 1s/step - loss: 0.4583 - accuracy: 0.8495 - val_loss: 0.4941 - val_accuracy: 0.8303\n",
            "Epoch 5/5\n",
            "588/588 [==============================] - 901s 2s/step - loss: 0.4125 - accuracy: 0.8659 - val_loss: 0.4811 - val_accuracy: 0.8384\n"
          ]
        },
        {
          "data": {
            "text/plain": [
              "<tensorflow.python.keras.callbacks.History at 0x1bd8fe41f70>"
            ]
          },
          "execution_count": 11,
          "metadata": {},
          "output_type": "execute_result"
        }
      ],
      "source": [
        "cnn.fit(train_datagen,epochs=5,validation_data=test_datagen)"
      ]
    },
    {
      "cell_type": "code",
      "execution_count": null,
      "id": "6a67b41b",
      "metadata": {
        "id": "6a67b41b",
        "outputId": "537f805e-bb01-468d-ca28-facdabf37677"
      },
      "outputs": [
        {
          "name": "stdout",
          "output_type": "stream",
          "text": [
            "Epoch 1/2\n",
            "588/588 [==============================] - 912s 2s/step - loss: 0.3809 - accuracy: 0.8757 - val_loss: 0.3933 - val_accuracy: 0.8660\n",
            "Epoch 2/2\n",
            "588/588 [==============================] - 805s 1s/step - loss: 0.3507 - accuracy: 0.8871 - val_loss: 0.5351 - val_accuracy: 0.8238\n"
          ]
        }
      ],
      "source": [
        "history=cnn.fit(train_datagen,epochs=2,validation_data=test_datagen)\n"
      ]
    },
    {
      "cell_type": "code",
      "execution_count": null,
      "id": "d61f79f8",
      "metadata": {
        "id": "d61f79f8"
      },
      "outputs": [],
      "source": [
        "cnn.save(\"D:\\kvasir-dataset-v2\\my_model_1.h5\")"
      ]
    },
    {
      "cell_type": "code",
      "execution_count": null,
      "id": "7bb2bd6f",
      "metadata": {
        "id": "7bb2bd6f"
      },
      "outputs": [],
      "source": []
    }
  ],
  "metadata": {
    "kernelspec": {
      "display_name": "Python 3",
      "language": "python",
      "name": "python3"
    },
    "language_info": {
      "codemirror_mode": {
        "name": "ipython",
        "version": 3
      },
      "file_extension": ".py",
      "mimetype": "text/x-python",
      "name": "python",
      "nbconvert_exporter": "python",
      "pygments_lexer": "ipython3",
      "version": "3.8.8"
    },
    "colab": {
      "provenance": [],
      "include_colab_link": true
    }
  },
  "nbformat": 4,
  "nbformat_minor": 5
}