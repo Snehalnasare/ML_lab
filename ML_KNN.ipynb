{
  "nbformat": 4,
  "nbformat_minor": 0,
  "metadata": {
    "colab": {
      "provenance": [],
      "authorship_tag": "ABX9TyPfFfdGZGHjaqtOpQQJD8g/",
      "include_colab_link": true
    },
    "kernelspec": {
      "name": "python3",
      "display_name": "Python 3"
    },
    "language_info": {
      "name": "python"
    }
  },
  "cells": [
    {
      "cell_type": "markdown",
      "metadata": {
        "id": "view-in-github",
        "colab_type": "text"
      },
      "source": [
        "<a href=\"https://colab.research.google.com/github/Snehalnasare/ML_lab/blob/main/ML_KNN.ipynb\" target=\"_parent\"><img src=\"https://colab.research.google.com/assets/colab-badge.svg\" alt=\"Open In Colab\"/></a>"
      ]
    },
    {
      "cell_type": "code",
      "execution_count": null,
      "metadata": {
        "colab": {
          "base_uri": "https://localhost:8080/",
          "height": 265
        },
        "id": "r3ISJeGJ5ygj",
        "outputId": "86dcd974-f9cf-4bee-cd7a-97808c4baf9b"
      },
      "outputs": [
        {
          "output_type": "display_data",
          "data": {
            "text/plain": [
              "<Figure size 432x288 with 1 Axes>"
            ],
            "image/png": "[encoded data removed]"
          },
          "metadata": {
            "needs_background": "light"
          }
        }
      ],
      "source": [
        "import matplotlib.pyplot as plt\n",
        "\n",
        "#take your own dataset\n",
        "x=[4,5,10,4,3,11,14,8,10,12]\n",
        "y=[21,19,21,17,16,25,24,22,21,21]\n",
        "classes = [0,0,1,0,0,1,1,0,1,1]\n",
        "\n",
        "plt.scatter(x,y,c=classes)\n",
        "plt.show()"
      ]
    }
  ]
}